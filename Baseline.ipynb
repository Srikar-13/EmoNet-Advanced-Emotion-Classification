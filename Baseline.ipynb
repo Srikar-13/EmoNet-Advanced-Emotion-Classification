{
 "cells": [
  {
   "cell_type": "markdown",
   "id": "af92b0a1",
   "metadata": {},
   "source": [
    "# EmoNet: Advanced Emotion Classification Using NLP Techniques"
   ]
  },
  {
   "cell_type": "markdown",
   "id": "a60eaef6",
   "metadata": {},
   "source": [
    "## Baseline Model"
   ]
  },
  {
   "cell_type": "code",
   "execution_count": 1,
   "id": "eeb8a7e9",
   "metadata": {},
   "outputs": [],
   "source": [
    "import pandas as pd\n",
    "import seaborn as sns\n",
    "import matplotlib.pyplot as plt"
   ]
  },
  {
   "cell_type": "code",
   "execution_count": 2,
   "id": "ba5ce0b8",
   "metadata": {},
   "outputs": [],
   "source": [
    "data = pd.read_csv('train.csv')"
   ]
  },
  {
   "cell_type": "code",
   "execution_count": 3,
   "id": "0f72f464",
   "metadata": {},
   "outputs": [
    {
     "data": {
      "text/html": [
       "<div>\n",
       "<style scoped>\n",
       "    .dataframe tbody tr th:only-of-type {\n",
       "        vertical-align: middle;\n",
       "    }\n",
       "\n",
       "    .dataframe tbody tr th {\n",
       "        vertical-align: top;\n",
       "    }\n",
       "\n",
       "    .dataframe thead th {\n",
       "        text-align: right;\n",
       "    }\n",
       "</style>\n",
       "<table border=\"1\" class=\"dataframe\">\n",
       "  <thead>\n",
       "    <tr style=\"text-align: right;\">\n",
       "      <th></th>\n",
       "      <th>Text</th>\n",
       "      <th>Emotion</th>\n",
       "    </tr>\n",
       "  </thead>\n",
       "  <tbody>\n",
       "    <tr>\n",
       "      <th>0</th>\n",
       "      <td>i didnt feel humiliated</td>\n",
       "      <td>sorrow</td>\n",
       "    </tr>\n",
       "    <tr>\n",
       "      <th>1</th>\n",
       "      <td>i can go from feeling so hopeless to so damned...</td>\n",
       "      <td>sorrow</td>\n",
       "    </tr>\n",
       "    <tr>\n",
       "      <th>2</th>\n",
       "      <td>im grabbing a minute to post i feel greedy wrong</td>\n",
       "      <td>rage</td>\n",
       "    </tr>\n",
       "    <tr>\n",
       "      <th>3</th>\n",
       "      <td>i am ever feeling nostalgic about the fireplac...</td>\n",
       "      <td>care</td>\n",
       "    </tr>\n",
       "    <tr>\n",
       "      <th>4</th>\n",
       "      <td>i am feeling grouchy</td>\n",
       "      <td>rage</td>\n",
       "    </tr>\n",
       "  </tbody>\n",
       "</table>\n",
       "</div>"
      ],
      "text/plain": [
       "                                                Text Emotion\n",
       "0                            i didnt feel humiliated  sorrow\n",
       "1  i can go from feeling so hopeless to so damned...  sorrow\n",
       "2   im grabbing a minute to post i feel greedy wrong    rage\n",
       "3  i am ever feeling nostalgic about the fireplac...    care\n",
       "4                               i am feeling grouchy    rage"
      ]
     },
     "execution_count": 3,
     "metadata": {},
     "output_type": "execute_result"
    }
   ],
   "source": [
    "data.head()"
   ]
  },
  {
   "cell_type": "code",
   "execution_count": 4,
   "id": "e156197b",
   "metadata": {},
   "outputs": [
    {
     "name": "stdout",
     "output_type": "stream",
     "text": [
      "<class 'pandas.core.frame.DataFrame'>\n",
      "RangeIndex: 15000 entries, 0 to 14999\n",
      "Data columns (total 2 columns):\n",
      " #   Column   Non-Null Count  Dtype \n",
      "---  ------   --------------  ----- \n",
      " 0   Text     15000 non-null  object\n",
      " 1   Emotion  15000 non-null  object\n",
      "dtypes: object(2)\n",
      "memory usage: 234.5+ KB\n"
     ]
    }
   ],
   "source": [
    "data.info()"
   ]
  },
  {
   "cell_type": "code",
   "execution_count": 5,
   "id": "bd1ee61d",
   "metadata": {},
   "outputs": [
    {
     "data": {
      "text/plain": [
       "(15000, 2)"
      ]
     },
     "execution_count": 5,
     "metadata": {},
     "output_type": "execute_result"
    }
   ],
   "source": [
    "data.shape\n"
   ]
  },
  {
   "cell_type": "code",
   "execution_count": 6,
   "id": "1edaabf4",
   "metadata": {},
   "outputs": [
    {
     "data": {
      "text/plain": [
       "Index(['Text', 'Emotion'], dtype='object')"
      ]
     },
     "execution_count": 6,
     "metadata": {},
     "output_type": "execute_result"
    }
   ],
   "source": [
    "data.columns"
   ]
  },
  {
   "cell_type": "code",
   "execution_count": 7,
   "id": "2676e6ea",
   "metadata": {},
   "outputs": [],
   "source": [
    "# Check for null values in the DataFrame\n",
    "null_values = data.isnull().any().any()"
   ]
  },
  {
   "cell_type": "code",
   "execution_count": 8,
   "id": "c5572103",
   "metadata": {},
   "outputs": [
    {
     "name": "stdout",
     "output_type": "stream",
     "text": [
      "There are no null values in the DataFrame.\n"
     ]
    }
   ],
   "source": [
    "if null_values:\n",
    "    print(\"There are null values in the DataFrame.\")\n",
    "else:\n",
    "    print(\"There are no null values in the DataFrame.\")"
   ]
  },
  {
   "cell_type": "code",
   "execution_count": 9,
   "id": "e6ada89f",
   "metadata": {},
   "outputs": [
    {
     "data": {
      "image/png": "[encoded data removed]",
      "text/plain": [
       "<Figure size 432x288 with 1 Axes>"
      ]
     },
     "metadata": {
      "needs_background": "light"
     },
     "output_type": "display_data"
    }
   ],
   "source": [
    "sns.heatmap(data.isnull(),cmap = 'magma',cbar = False);"
   ]
  },
  {
   "cell_type": "markdown",
   "id": "cc07ac97",
   "metadata": {},
   "source": [
    "#### No null values are present in the data"
   ]
  },
  {
   "cell_type": "code",
   "execution_count": 10,
   "id": "a53b8f95",
   "metadata": {},
   "outputs": [
    {
     "data": {
      "text/html": [
       "<div>\n",
       "<style scoped>\n",
       "    .dataframe tbody tr th:only-of-type {\n",
       "        vertical-align: middle;\n",
       "    }\n",
       "\n",
       "    .dataframe tbody tr th {\n",
       "        vertical-align: top;\n",
       "    }\n",
       "\n",
       "    .dataframe thead th {\n",
       "        text-align: right;\n",
       "    }\n",
       "</style>\n",
       "<table border=\"1\" class=\"dataframe\">\n",
       "  <thead>\n",
       "    <tr style=\"text-align: right;\">\n",
       "      <th></th>\n",
       "      <th>count</th>\n",
       "      <th>unique</th>\n",
       "      <th>top</th>\n",
       "      <th>freq</th>\n",
       "    </tr>\n",
       "  </thead>\n",
       "  <tbody>\n",
       "    <tr>\n",
       "      <th>Text</th>\n",
       "      <td>15000</td>\n",
       "      <td>14971</td>\n",
       "      <td>i was sitting in the corner stewing in my own ...</td>\n",
       "      <td>2</td>\n",
       "    </tr>\n",
       "    <tr>\n",
       "      <th>Emotion</th>\n",
       "      <td>15000</td>\n",
       "      <td>6</td>\n",
       "      <td>happiness</td>\n",
       "      <td>4989</td>\n",
       "    </tr>\n",
       "  </tbody>\n",
       "</table>\n",
       "</div>"
      ],
      "text/plain": [
       "         count unique                                                top  freq\n",
       "Text     15000  14971  i was sitting in the corner stewing in my own ...     2\n",
       "Emotion  15000      6                                          happiness  4989"
      ]
     },
     "execution_count": 10,
     "metadata": {},
     "output_type": "execute_result"
    }
   ],
   "source": [
    "data.describe().T"
   ]
  },
  {
   "cell_type": "code",
   "execution_count": 11,
   "id": "d3bc94f3",
   "metadata": {},
   "outputs": [
    {
     "data": {
      "text/plain": [
       "happiness    4989\n",
       "sorrow       4412\n",
       "rage         2028\n",
       "scare        1804\n",
       "care         1226\n",
       "amaze         541\n",
       "Name: Emotion, dtype: int64"
      ]
     },
     "execution_count": 11,
     "metadata": {},
     "output_type": "execute_result"
    }
   ],
   "source": [
    "data['Emotion'].value_counts()"
   ]
  },
  {
   "cell_type": "markdown",
   "id": "03fdf193",
   "metadata": {},
   "source": [
    "### Data Preprocessing"
   ]
  },
  {
   "cell_type": "code",
   "execution_count": 12,
   "id": "bf4debb8",
   "metadata": {},
   "outputs": [],
   "source": [
    "# Convert 'Emotion' column to categorical data type\n",
    "data['Emotion_num'] = pd.Categorical(data['Emotion']).codes"
   ]
  },
  {
   "cell_type": "code",
   "execution_count": 13,
   "id": "5edf20a6",
   "metadata": {},
   "outputs": [
    {
     "data": {
      "text/html": [
       "<div>\n",
       "<style scoped>\n",
       "    .dataframe tbody tr th:only-of-type {\n",
       "        vertical-align: middle;\n",
       "    }\n",
       "\n",
       "    .dataframe tbody tr th {\n",
       "        vertical-align: top;\n",
       "    }\n",
       "\n",
       "    .dataframe thead th {\n",
       "        text-align: right;\n",
       "    }\n",
       "</style>\n",
       "<table border=\"1\" class=\"dataframe\">\n",
       "  <thead>\n",
       "    <tr style=\"text-align: right;\">\n",
       "      <th></th>\n",
       "      <th>Text</th>\n",
       "      <th>Emotion</th>\n",
       "      <th>Emotion_num</th>\n",
       "    </tr>\n",
       "  </thead>\n",
       "  <tbody>\n",
       "    <tr>\n",
       "      <th>0</th>\n",
       "      <td>i didnt feel humiliated</td>\n",
       "      <td>sorrow</td>\n",
       "      <td>5</td>\n",
       "    </tr>\n",
       "    <tr>\n",
       "      <th>1</th>\n",
       "      <td>i can go from feeling so hopeless to so damned...</td>\n",
       "      <td>sorrow</td>\n",
       "      <td>5</td>\n",
       "    </tr>\n",
       "    <tr>\n",
       "      <th>2</th>\n",
       "      <td>im grabbing a minute to post i feel greedy wrong</td>\n",
       "      <td>rage</td>\n",
       "      <td>3</td>\n",
       "    </tr>\n",
       "    <tr>\n",
       "      <th>3</th>\n",
       "      <td>i am ever feeling nostalgic about the fireplac...</td>\n",
       "      <td>care</td>\n",
       "      <td>1</td>\n",
       "    </tr>\n",
       "    <tr>\n",
       "      <th>4</th>\n",
       "      <td>i am feeling grouchy</td>\n",
       "      <td>rage</td>\n",
       "      <td>3</td>\n",
       "    </tr>\n",
       "  </tbody>\n",
       "</table>\n",
       "</div>"
      ],
      "text/plain": [
       "                                                Text Emotion  Emotion_num\n",
       "0                            i didnt feel humiliated  sorrow            5\n",
       "1  i can go from feeling so hopeless to so damned...  sorrow            5\n",
       "2   im grabbing a minute to post i feel greedy wrong    rage            3\n",
       "3  i am ever feeling nostalgic about the fireplac...    care            1\n",
       "4                               i am feeling grouchy    rage            3"
      ]
     },
     "execution_count": 13,
     "metadata": {},
     "output_type": "execute_result"
    }
   ],
   "source": [
    "data.head()"
   ]
  },
  {
   "cell_type": "code",
   "execution_count": 14,
   "id": "8d40e9d4",
   "metadata": {},
   "outputs": [
    {
     "data": {
      "text/plain": [
       "happiness    4989\n",
       "sorrow       4412\n",
       "rage         2028\n",
       "scare        1804\n",
       "care         1226\n",
       "amaze         541\n",
       "Name: Emotion, dtype: int64"
      ]
     },
     "execution_count": 14,
     "metadata": {},
     "output_type": "execute_result"
    }
   ],
   "source": [
    "data['Emotion'].value_counts()"
   ]
  },
  {
   "cell_type": "code",
   "execution_count": 15,
   "id": "05afb5f6",
   "metadata": {},
   "outputs": [
    {
     "data": {
      "text/plain": [
       "2    4989\n",
       "5    4412\n",
       "3    2028\n",
       "4    1804\n",
       "1    1226\n",
       "0     541\n",
       "Name: Emotion_num, dtype: int64"
      ]
     },
     "execution_count": 15,
     "metadata": {},
     "output_type": "execute_result"
    }
   ],
   "source": [
    "data['Emotion_num'].value_counts()"
   ]
  },
  {
   "cell_type": "code",
   "execution_count": 16,
   "id": "cd49686e",
   "metadata": {},
   "outputs": [
    {
     "data": {
      "image/png": "[encoded data removed]",
      "text/plain": [
       "<Figure size 576x432 with 1 Axes>"
      ]
     },
     "metadata": {
      "needs_background": "light"
     },
     "output_type": "display_data"
    }
   ],
   "source": [
    "# Calculate the counts of each emotion\n",
    "emotion_counts = data['Emotion'].value_counts()\n",
    "\n",
    "# Plot the bar plot for emotion distribution\n",
    "plt.figure(figsize=(8, 6))\n",
    "emotion_counts.plot(kind='bar', color='skyblue')\n",
    "plt.title('Distribution of Emotions')\n",
    "plt.xlabel('Emotion')\n",
    "plt.ylabel('Count')\n",
    "plt.xticks(rotation=45)\n",
    "plt.show()"
   ]
  },
  {
   "cell_type": "markdown",
   "id": "d3a911e3",
   "metadata": {},
   "source": [
    "## Train-test split"
   ]
  },
  {
   "cell_type": "code",
   "execution_count": 17,
   "id": "8865adf7",
   "metadata": {},
   "outputs": [],
   "source": [
    "from sklearn.model_selection import train_test_split\n",
    "X_train, X_test, y_train, y_test = train_test_split(data['Text'], data['Emotion_num'], test_size=0.2, random_state=42)"
   ]
  },
  {
   "cell_type": "markdown",
   "id": "a5f9496b",
   "metadata": {},
   "source": [
    "## Random Forest"
   ]
  },
  {
   "cell_type": "code",
   "execution_count": 20,
   "id": "6b658676",
   "metadata": {},
   "outputs": [],
   "source": [
    "from sklearn.feature_extraction.text import TfidfVectorizer\n",
    "from sklearn.ensemble import RandomForestClassifier\n",
    "from sklearn.metrics import classification_report\n",
    "\n",
    "# Initialize TfidfVectorizer\n",
    "tfidf = TfidfVectorizer()\n",
    "\n",
    "# Transform text data into TF-IDF features\n",
    "X_train_tfidf = tfidf.fit_transform(X_train)\n",
    "X_test_tfidf = tfidf.transform(X_test)\n",
    "\n",
    "# Initialize and train Random Forest classifier\n",
    "rfc = RandomForestClassifier(random_state=42)\n",
    "rfc.fit(X_train_tfidf, y_train)\n",
    "\n",
    "# Predict on the test set\n",
    "rfc_y_pred = rfc.predict(X_test_tfidf)\n"
   ]
  },
  {
   "cell_type": "code",
   "execution_count": 21,
   "id": "b7368b09",
   "metadata": {},
   "outputs": [
    {
     "name": "stdout",
     "output_type": "stream",
     "text": [
      "Classification Report:\n",
      "               precision    recall  f1-score   support\n",
      "\n",
      "           0       0.74      0.62      0.67        95\n",
      "           1       0.84      0.68      0.75       255\n",
      "           2       0.82      0.95      0.88       999\n",
      "           3       0.91      0.80      0.85       409\n",
      "           4       0.86      0.81      0.83       350\n",
      "           5       0.91      0.89      0.90       892\n",
      "\n",
      "    accuracy                           0.86      3000\n",
      "   macro avg       0.85      0.79      0.81      3000\n",
      "weighted avg       0.86      0.86      0.86      3000\n",
      "\n"
     ]
    }
   ],
   "source": [
    "print(\"Classification Report:\\n\", classification_report(y_test, rfc_y_pred))"
   ]
  },
  {
   "cell_type": "code",
   "execution_count": 196,
   "id": "c15a960d",
   "metadata": {},
   "outputs": [],
   "source": [
    "# Perform 5-fold cross-validation\n",
    "from sklearn.model_selection import cross_val_score\n",
    "cv_scores = cross_val_score(rfc, X_train_tfidf, y_train, cv=5)"
   ]
  },
  {
   "cell_type": "code",
   "execution_count": 197,
   "id": "67877af2",
   "metadata": {},
   "outputs": [
    {
     "name": "stdout",
     "output_type": "stream",
     "text": [
      "Fold 1 score: 0.8529166666666667\n",
      "Fold 2 score: 0.8566666666666667\n",
      "Fold 3 score: 0.8358333333333333\n",
      "Fold 4 score: 0.8258333333333333\n",
      "Fold 5 score: 0.8341666666666666\n",
      "Average CV score: 0.8410833333333333\n"
     ]
    }
   ],
   "source": [
    "# Print the score for each fold\n",
    "for i, score in enumerate(cv_scores, 1):\n",
    "    print(f\"Fold {i} score: {score}\")\n",
    "\n",
    "# Calculate and print the average cross-validation score\n",
    "average_cv_score = cv_scores.mean()\n",
    "print(f\"Average CV score: {average_cv_score}\")"
   ]
  },
  {
   "cell_type": "code",
   "execution_count": 198,
   "id": "a6eb56a6",
   "metadata": {},
   "outputs": [
    {
     "data": {
      "image/png": "[encoded data removed]",
      "text/plain": [
       "<Figure size 576x432 with 1 Axes>"
      ]
     },
     "metadata": {
      "needs_background": "light"
     },
     "output_type": "display_data"
    }
   ],
   "source": [
    "import numpy as np\n",
    "from sklearn.metrics import roc_curve, auc\n",
    "import matplotlib.pyplot as plt\n",
    "\n",
    "# Get predicted probabilities for each class\n",
    "rfc_y_pred_proba = rfc.predict_proba(X_test_tfidf)\n",
    "\n",
    "# Initialize lists to store fpr, tpr, and auc for each class\n",
    "fpr = dict()\n",
    "tpr = dict()\n",
    "roc_auc = dict()\n",
    "\n",
    "# Calculate fpr, tpr, and auc for each class\n",
    "for i in range(len(data['Emotion_num'].unique())):\n",
    "    fpr[i], tpr[i], _ = roc_curve(y_test == i, rfc_y_pred_proba[:, i])\n",
    "    roc_auc[i] = auc(fpr[i], tpr[i])\n",
    "\n",
    "# Plot ROC curve for each class\n",
    "plt.figure(figsize=(8, 6))\n",
    "for i in range(len(data['Emotion_num'].unique())):\n",
    "    plt.plot(fpr[i], tpr[i], label='ROC curve (AUC = %0.2f) for class %d' % (roc_auc[i], i))\n",
    "plt.plot([0, 1], [0, 1], color='navy', lw=2, linestyle='--')\n",
    "plt.xlim([0.0, 1.0])\n",
    "plt.ylim([0.0, 1.05])\n",
    "plt.xlabel('False Positive Rate')\n",
    "plt.ylabel('True Positive Rate')\n",
    "plt.title('Receiver Operating Characteristic (ROC) Curve for Random Forest')\n",
    "plt.legend(loc=\"lower right\")\n",
    "plt.show()\n"
   ]
  },
  {
   "cell_type": "code",
   "execution_count": 199,
   "id": "896aa3b9",
   "metadata": {},
   "outputs": [
    {
     "name": "stdout",
     "output_type": "stream",
     "text": [
      "AUC Scores for Each Class:\n",
      "Class 0: 0.9903\n",
      "Class 1: 0.9877\n",
      "Class 2: 0.9724\n",
      "Class 3: 0.9871\n",
      "Class 4: 0.9875\n",
      "Class 5: 0.9811\n",
      "Average ROC Curve Score: 0.9843726907823519\n"
     ]
    }
   ],
   "source": [
    "from sklearn.metrics import roc_auc_score\n",
    "\n",
    "# Initialize an empty list to store AUC scores for each class\n",
    "auc_scores = []\n",
    "\n",
    "# Calculate AUC score for each class\n",
    "for i in range(len(data['Emotion_num'].unique())):\n",
    "    auc_score = roc_auc_score(y_test == i, rfc_y_pred_proba[:, i])\n",
    "    auc_scores.append(auc_score)\n",
    "\n",
    "# Print the AUC scores\n",
    "print(\"AUC Scores for Each Class:\")\n",
    "for i, auc_score in enumerate(auc_scores):\n",
    "    print(\"Class {}: {:.4f}\".format(i, auc_score))\n",
    "# Calculate the average ROC curve score\n",
    "avg_auc_score = np.mean(auc_scores)\n",
    "\n",
    "# Print the average ROC curve score\n",
    "print(\"Average ROC Curve Score:\", avg_auc_score)"
   ]
  },
  {
   "cell_type": "code",
   "execution_count": 200,
   "id": "643251b0",
   "metadata": {},
   "outputs": [
    {
     "name": "stderr",
     "output_type": "stream",
     "text": [
      "/Users/saisrikar/opt/anaconda3/lib/python3.9/site-packages/sklearn/utils/deprecation.py:87: FutureWarning: Function plot_confusion_matrix is deprecated; Function `plot_confusion_matrix` is deprecated in 1.0 and will be removed in 1.2. Use one of the class methods: ConfusionMatrixDisplay.from_predictions or ConfusionMatrixDisplay.from_estimator.\n",
      "  warnings.warn(msg, category=FutureWarning)\n"
     ]
    },
    {
     "data": {
      "text/plain": [
       "<Figure size 720x504 with 0 Axes>"
      ]
     },
     "metadata": {},
     "output_type": "display_data"
    },
    {
     "data": {
      "image/png": "[encoded data removed]",
      "text/plain": [
       "<Figure size 432x288 with 2 Axes>"
      ]
     },
     "metadata": {
      "needs_background": "light"
     },
     "output_type": "display_data"
    }
   ],
   "source": [
    "from sklearn.metrics import plot_confusion_matrix\n",
    "\n",
    "# Plot confusion matrix\n",
    "plt.figure(figsize=(10, 7))\n",
    "plot_confusion_matrix(rfc, X_test_tfidf, y_test, cmap='coolwarm', display_labels=data['Emotion'].unique())\n",
    "plt.xlabel('Prediction')\n",
    "plt.ylabel('Truth')\n",
    "plt.title('Confusion Matrix for Random Forest Classifier')\n",
    "plt.show()"
   ]
  },
  {
   "cell_type": "markdown",
   "id": "d623fd1d",
   "metadata": {},
   "source": [
    "## SVM"
   ]
  },
  {
   "cell_type": "code",
   "execution_count": 201,
   "id": "6369cea8",
   "metadata": {},
   "outputs": [],
   "source": [
    "from sklearn.feature_extraction.text import TfidfVectorizer\n",
    "from sklearn.svm import SVC\n",
    "\n",
    "# Initialize TfidfVectorizer\n",
    "tfidf = TfidfVectorizer()\n",
    "\n",
    "# Transform text data into TF-IDF features\n",
    "X_train_tfidf = tfidf.fit_transform(X_train)\n",
    "X_test_tfidf = tfidf.transform(X_test)\n",
    "\n",
    "# Initialize and train SVM classifier\n",
    "svm = SVC(random_state=42)\n",
    "svm.fit(X_train_tfidf, y_train)\n",
    "\n",
    "# Predict on the test set\n",
    "svm_y_pred = svm.predict(X_test_tfidf)\n"
   ]
  },
  {
   "cell_type": "code",
   "execution_count": 202,
   "id": "18141ce7",
   "metadata": {},
   "outputs": [
    {
     "name": "stdout",
     "output_type": "stream",
     "text": [
      "Classification Report:\n",
      "               precision    recall  f1-score   support\n",
      "\n",
      "           0       0.82      0.44      0.58        95\n",
      "           1       0.88      0.54      0.67       255\n",
      "           2       0.78      0.95      0.86       999\n",
      "           3       0.94      0.72      0.82       409\n",
      "           4       0.86      0.73      0.79       350\n",
      "           5       0.86      0.92      0.89       892\n",
      "\n",
      "    accuracy                           0.83      3000\n",
      "   macro avg       0.86      0.72      0.77      3000\n",
      "weighted avg       0.84      0.83      0.83      3000\n",
      "\n"
     ]
    }
   ],
   "source": [
    "print(\"Classification Report:\\n\", classification_report(y_test, svm_y_pred))"
   ]
  },
  {
   "cell_type": "code",
   "execution_count": 203,
   "id": "5b637e00",
   "metadata": {},
   "outputs": [],
   "source": [
    "# Perform 5-fold cross-validation\n",
    "from sklearn.model_selection import cross_val_score\n",
    "cv_scores = cross_val_score(svm, X_train_tfidf, y_train, cv=5)"
   ]
  },
  {
   "cell_type": "code",
   "execution_count": 204,
   "id": "ac770e6f",
   "metadata": {},
   "outputs": [
    {
     "name": "stdout",
     "output_type": "stream",
     "text": [
      "Fold 1 score: 0.7933333333333333\n",
      "Fold 2 score: 0.7941666666666667\n",
      "Fold 3 score: 0.7858333333333334\n",
      "Fold 4 score: 0.7804166666666666\n",
      "Fold 5 score: 0.7904166666666667\n",
      "Average CV score: 0.7888333333333333\n"
     ]
    }
   ],
   "source": [
    "# Print the score for each fold\n",
    "for i, score in enumerate(cv_scores, 1):\n",
    "    print(f\"Fold {i} score: {score}\")\n",
    "\n",
    "# Calculate and print the average cross-validation score\n",
    "average_cv_score = cv_scores.mean()\n",
    "print(f\"Average CV score: {average_cv_score}\")"
   ]
  },
  {
   "cell_type": "code",
   "execution_count": 205,
   "id": "df2805e8",
   "metadata": {},
   "outputs": [
    {
     "data": {
      "image/png": "[encoded data removed]",
      "text/plain": [
       "<Figure size 576x432 with 1 Axes>"
      ]
     },
     "metadata": {
      "needs_background": "light"
     },
     "output_type": "display_data"
    }
   ],
   "source": [
    "# Get predicted probabilities for each class\n",
    "svm_y_pred_proba = svm.decision_function(X_test_tfidf)\n",
    "\n",
    "# Initialize lists to store fpr, tpr, and auc for each class\n",
    "fpr_svm = dict()\n",
    "tpr_svm = dict()\n",
    "roc_auc_svm = dict()\n",
    "\n",
    "# Calculate fpr, tpr, and auc for each class\n",
    "for i in range(len(data['Emotion_num'].unique())):\n",
    "    fpr_svm[i], tpr_svm[i], _ = roc_curve((y_test == i).astype(int), svm_y_pred_proba[:, i])\n",
    "    roc_auc_svm[i] = auc(fpr_svm[i], tpr_svm[i])\n",
    "\n",
    "# Plot ROC curve for each class\n",
    "plt.figure(figsize=(8, 6))\n",
    "for i in range(len(data['Emotion_num'].unique())):\n",
    "    plt.plot(fpr_svm[i], tpr_svm[i], label='ROC curve (AUC = %0.2f) for class %d' % (roc_auc_svm[i], i))\n",
    "plt.plot([0, 1], [0, 1], color='navy', lw=2, linestyle='--')\n",
    "plt.xlim([0.0, 1.0])\n",
    "plt.ylim([0.0, 1.05])\n",
    "plt.xlabel('False Positive Rate')\n",
    "plt.ylabel('True Positive Rate')\n",
    "plt.title('Receiver Operating Characteristic (ROC) Curve for SVM')\n",
    "plt.legend(loc=\"lower right\")\n",
    "plt.show()\n"
   ]
  },
  {
   "cell_type": "code",
   "execution_count": 206,
   "id": "212c52e3",
   "metadata": {},
   "outputs": [
    {
     "name": "stdout",
     "output_type": "stream",
     "text": [
      "AUC Scores for Each Class:\n",
      "Class 0: 0.9900\n",
      "Class 1: 0.9831\n",
      "Class 2: 0.9657\n",
      "Class 3: 0.9758\n",
      "Class 4: 0.9751\n",
      "Class 5: 0.9821\n",
      "Average ROC Curve Score: 0.9786052574215267\n"
     ]
    }
   ],
   "source": [
    "from sklearn.metrics import roc_auc_score\n",
    "\n",
    "# Initialize an empty list to store AUC scores for each class\n",
    "auc_scores = []\n",
    "\n",
    "# Calculate AUC score for each class\n",
    "for i in range(len(data['Emotion_num'].unique())):\n",
    "    auc_score = roc_auc_score(y_test == i, svm_y_pred_proba[:, i])\n",
    "    auc_scores.append(auc_score)\n",
    "\n",
    "# Print the AUC scores\n",
    "print(\"AUC Scores for Each Class:\")\n",
    "for i, auc_score in enumerate(auc_scores):\n",
    "    print(\"Class {}: {:.4f}\".format(i, auc_score))\n",
    "# Calculate the average ROC curve score\n",
    "avg_auc_score = np.mean(auc_scores)\n",
    "\n",
    "# Print the average ROC curve score\n",
    "print(\"Average ROC Curve Score:\", avg_auc_score)"
   ]
  },
  {
   "cell_type": "code",
   "execution_count": 207,
   "id": "ef531978",
   "metadata": {},
   "outputs": [
    {
     "name": "stderr",
     "output_type": "stream",
     "text": [
      "/Users/saisrikar/opt/anaconda3/lib/python3.9/site-packages/sklearn/utils/deprecation.py:87: FutureWarning: Function plot_confusion_matrix is deprecated; Function `plot_confusion_matrix` is deprecated in 1.0 and will be removed in 1.2. Use one of the class methods: ConfusionMatrixDisplay.from_predictions or ConfusionMatrixDisplay.from_estimator.\n",
      "  warnings.warn(msg, category=FutureWarning)\n"
     ]
    },
    {
     "data": {
      "text/plain": [
       "<Figure size 720x504 with 0 Axes>"
      ]
     },
     "metadata": {},
     "output_type": "display_data"
    },
    {
     "data": {
      "image/png": "[encoded data removed]",
      "text/plain": [
       "<Figure size 432x288 with 2 Axes>"
      ]
     },
     "metadata": {
      "needs_background": "light"
     },
     "output_type": "display_data"
    }
   ],
   "source": [
    "from sklearn.metrics import plot_confusion_matrix\n",
    "\n",
    "# Plot confusion matrix\n",
    "plt.figure(figsize=(10, 7))\n",
    "plot_confusion_matrix(svm, X_test_tfidf, y_test, cmap='coolwarm', display_labels=data['Emotion'].unique())\n",
    "plt.xlabel('Prediction')\n",
    "plt.ylabel('Truth')\n",
    "plt.title('Confusion Matrix for SVM')\n",
    "plt.show()"
   ]
  },
  {
   "cell_type": "markdown",
   "id": "f473f695",
   "metadata": {},
   "source": [
    "## Logistic Regression"
   ]
  },
  {
   "cell_type": "code",
   "execution_count": 216,
   "id": "050259f0",
   "metadata": {},
   "outputs": [
    {
     "name": "stderr",
     "output_type": "stream",
     "text": [
      "/Users/saisrikar/opt/anaconda3/lib/python3.9/site-packages/sklearn/linear_model/_logistic.py:814: ConvergenceWarning: lbfgs failed to converge (status=1):\n",
      "STOP: TOTAL NO. of ITERATIONS REACHED LIMIT.\n",
      "\n",
      "Increase the number of iterations (max_iter) or scale the data as shown in:\n",
      "    https://scikit-learn.org/stable/modules/preprocessing.html\n",
      "Please also refer to the documentation for alternative solver options:\n",
      "    https://scikit-learn.org/stable/modules/linear_model.html#logistic-regression\n",
      "  n_iter_i = _check_optimize_result(\n"
     ]
    }
   ],
   "source": [
    "from sklearn.feature_extraction.text import TfidfVectorizer\n",
    "from sklearn.linear_model import LogisticRegression\n",
    "\n",
    "# Initialize TfidfVectorizer\n",
    "tfidf = TfidfVectorizer()\n",
    "\n",
    "# Transform text data into TF-IDF features\n",
    "X_train_tfidf = tfidf.fit_transform(X_train)\n",
    "X_test_tfidf = tfidf.transform(X_test)\n",
    "\n",
    "# Initialize and train Logistic Regression classifier\n",
    "log_reg = LogisticRegression(random_state=42)\n",
    "log_reg.fit(X_train_tfidf, y_train)\n",
    "\n",
    "# Predict on the test set\n",
    "log_reg_y_pred = log_reg.predict(X_test_tfidf)\n"
   ]
  },
  {
   "cell_type": "code",
   "execution_count": 209,
   "id": "c02813c0",
   "metadata": {},
   "outputs": [
    {
     "name": "stdout",
     "output_type": "stream",
     "text": [
      "Classification Report:\n",
      "               precision    recall  f1-score   support\n",
      "\n",
      "           0       0.82      0.39      0.53        95\n",
      "           1       0.86      0.60      0.71       255\n",
      "           2       0.81      0.94      0.87       999\n",
      "           3       0.93      0.76      0.84       409\n",
      "           4       0.86      0.75      0.80       350\n",
      "           5       0.85      0.93      0.89       892\n",
      "\n",
      "    accuracy                           0.85      3000\n",
      "   macro avg       0.86      0.73      0.77      3000\n",
      "weighted avg       0.85      0.85      0.84      3000\n",
      "\n"
     ]
    }
   ],
   "source": [
    "print(\"Classification Report:\\n\", classification_report(y_test, log_reg_y_pred))"
   ]
  },
  {
   "cell_type": "code",
   "execution_count": 210,
   "id": "7d393b2e",
   "metadata": {},
   "outputs": [
    {
     "name": "stderr",
     "output_type": "stream",
     "text": [
      "/Users/saisrikar/opt/anaconda3/lib/python3.9/site-packages/sklearn/linear_model/_logistic.py:814: ConvergenceWarning: lbfgs failed to converge (status=1):\n",
      "STOP: TOTAL NO. of ITERATIONS REACHED LIMIT.\n",
      "\n",
      "Increase the number of iterations (max_iter) or scale the data as shown in:\n",
      "    https://scikit-learn.org/stable/modules/preprocessing.html\n",
      "Please also refer to the documentation for alternative solver options:\n",
      "    https://scikit-learn.org/stable/modules/linear_model.html#logistic-regression\n",
      "  n_iter_i = _check_optimize_result(\n",
      "/Users/saisrikar/opt/anaconda3/lib/python3.9/site-packages/sklearn/linear_model/_logistic.py:814: ConvergenceWarning: lbfgs failed to converge (status=1):\n",
      "STOP: TOTAL NO. of ITERATIONS REACHED LIMIT.\n",
      "\n",
      "Increase the number of iterations (max_iter) or scale the data as shown in:\n",
      "    https://scikit-learn.org/stable/modules/preprocessing.html\n",
      "Please also refer to the documentation for alternative solver options:\n",
      "    https://scikit-learn.org/stable/modules/linear_model.html#logistic-regression\n",
      "  n_iter_i = _check_optimize_result(\n",
      "/Users/saisrikar/opt/anaconda3/lib/python3.9/site-packages/sklearn/linear_model/_logistic.py:814: ConvergenceWarning: lbfgs failed to converge (status=1):\n",
      "STOP: TOTAL NO. of ITERATIONS REACHED LIMIT.\n",
      "\n",
      "Increase the number of iterations (max_iter) or scale the data as shown in:\n",
      "    https://scikit-learn.org/stable/modules/preprocessing.html\n",
      "Please also refer to the documentation for alternative solver options:\n",
      "    https://scikit-learn.org/stable/modules/linear_model.html#logistic-regression\n",
      "  n_iter_i = _check_optimize_result(\n",
      "/Users/saisrikar/opt/anaconda3/lib/python3.9/site-packages/sklearn/linear_model/_logistic.py:814: ConvergenceWarning: lbfgs failed to converge (status=1):\n",
      "STOP: TOTAL NO. of ITERATIONS REACHED LIMIT.\n",
      "\n",
      "Increase the number of iterations (max_iter) or scale the data as shown in:\n",
      "    https://scikit-learn.org/stable/modules/preprocessing.html\n",
      "Please also refer to the documentation for alternative solver options:\n",
      "    https://scikit-learn.org/stable/modules/linear_model.html#logistic-regression\n",
      "  n_iter_i = _check_optimize_result(\n",
      "/Users/saisrikar/opt/anaconda3/lib/python3.9/site-packages/sklearn/linear_model/_logistic.py:814: ConvergenceWarning: lbfgs failed to converge (status=1):\n",
      "STOP: TOTAL NO. of ITERATIONS REACHED LIMIT.\n",
      "\n",
      "Increase the number of iterations (max_iter) or scale the data as shown in:\n",
      "    https://scikit-learn.org/stable/modules/preprocessing.html\n",
      "Please also refer to the documentation for alternative solver options:\n",
      "    https://scikit-learn.org/stable/modules/linear_model.html#logistic-regression\n",
      "  n_iter_i = _check_optimize_result(\n"
     ]
    }
   ],
   "source": [
    "# Perform 5-fold cross-validation\n",
    "from sklearn.model_selection import cross_val_score\n",
    "cv_scores = cross_val_score(log_reg, X_train_tfidf, y_train, cv=5)"
   ]
  },
  {
   "cell_type": "code",
   "execution_count": 211,
   "id": "414e9bad",
   "metadata": {},
   "outputs": [
    {
     "name": "stdout",
     "output_type": "stream",
     "text": [
      "Fold 1 score: 0.8116666666666666\n",
      "Fold 2 score: 0.8120833333333334\n",
      "Fold 3 score: 0.8066666666666666\n",
      "Fold 4 score: 0.8020833333333334\n",
      "Fold 5 score: 0.8095833333333333\n",
      "Average CV score: 0.8084166666666668\n"
     ]
    }
   ],
   "source": [
    "# Print the score for each fold\n",
    "for i, score in enumerate(cv_scores, 1):\n",
    "    print(f\"Fold {i} score: {score}\")\n",
    "\n",
    "# Calculate and print the average cross-validation score\n",
    "average_cv_score = cv_scores.mean()\n",
    "print(f\"Average CV score: {average_cv_score}\")"
   ]
  },
  {
   "cell_type": "code",
   "execution_count": 212,
   "id": "b5d0e9c2",
   "metadata": {},
   "outputs": [
    {
     "data": {
      "image/png": "[encoded data removed]",
      "text/plain": [
       "<Figure size 576x432 with 1 Axes>"
      ]
     },
     "metadata": {
      "needs_background": "light"
     },
     "output_type": "display_data"
    }
   ],
   "source": [
    "from sklearn.metrics import roc_curve, auc\n",
    "\n",
    "# Get predicted probabilities for each class\n",
    "log_reg_y_pred_proba = log_reg.predict_proba(X_test_tfidf)\n",
    "\n",
    "# Initialize lists to store fpr, tpr, and auc for each class\n",
    "fpr_log_reg = dict()\n",
    "tpr_log_reg = dict()\n",
    "roc_auc_log_reg = dict()\n",
    "\n",
    "# Calculate fpr, tpr, and auc for each class\n",
    "for i in range(len(data['Emotion_num'].unique())):\n",
    "    fpr_log_reg[i], tpr_log_reg[i], _ = roc_curve((y_test == i).astype(int), log_reg_y_pred_proba[:, i])\n",
    "    roc_auc_log_reg[i] = auc(fpr_log_reg[i], tpr_log_reg[i])\n",
    "\n",
    "# Plot ROC curve for each class\n",
    "plt.figure(figsize=(8, 6))\n",
    "for i in range(len(data['Emotion_num'].unique())):\n",
    "    plt.plot(fpr_log_reg[i], tpr_log_reg[i], label='ROC curve (AUC = %0.2f) for class %d' % (roc_auc_log_reg[i], i))\n",
    "plt.plot([0, 1], [0, 1], color='navy', lw=2, linestyle='--')\n",
    "plt.xlim([0.0, 1.0])\n",
    "plt.ylim([0.0, 1.05])\n",
    "plt.xlabel('False Positive Rate')\n",
    "plt.ylabel('True Positive Rate')\n",
    "plt.title('Receiver Operating Characteristic (ROC) Curve for Logistic Regression')\n",
    "plt.legend(loc=\"lower right\")\n",
    "plt.show()\n"
   ]
  },
  {
   "cell_type": "code",
   "execution_count": 213,
   "id": "5be6b5dc",
   "metadata": {},
   "outputs": [
    {
     "name": "stdout",
     "output_type": "stream",
     "text": [
      "AUC Scores for Each Class:\n",
      "Class 0: 0.9912\n",
      "Class 1: 0.9854\n",
      "Class 2: 0.9766\n",
      "Class 3: 0.9877\n",
      "Class 4: 0.9834\n",
      "Class 5: 0.9850\n",
      "Average ROC Curve Score: 0.9848740450317716\n"
     ]
    }
   ],
   "source": [
    "from sklearn.metrics import roc_auc_score\n",
    "\n",
    "# Initialize an empty list to store AUC scores for each class\n",
    "auc_scores = []\n",
    "\n",
    "# Calculate AUC score for each class\n",
    "for i in range(len(data['Emotion_num'].unique())):\n",
    "    auc_score = roc_auc_score(y_test == i, log_reg_y_pred_proba[:, i])\n",
    "    auc_scores.append(auc_score)\n",
    "\n",
    "# Print the AUC scores\n",
    "print(\"AUC Scores for Each Class:\")\n",
    "for i, auc_score in enumerate(auc_scores):\n",
    "    print(\"Class {}: {:.4f}\".format(i, auc_score))\n",
    "# Calculate the average ROC curve score\n",
    "avg_auc_score = np.mean(auc_scores)\n",
    "\n",
    "# Print the average ROC curve score\n",
    "print(\"Average ROC Curve Score:\", avg_auc_score)"
   ]
  },
  {
   "cell_type": "code",
   "execution_count": 214,
   "id": "0e85369c",
   "metadata": {},
   "outputs": [
    {
     "name": "stderr",
     "output_type": "stream",
     "text": [
      "/Users/saisrikar/opt/anaconda3/lib/python3.9/site-packages/sklearn/utils/deprecation.py:87: FutureWarning: Function plot_confusion_matrix is deprecated; Function `plot_confusion_matrix` is deprecated in 1.0 and will be removed in 1.2. Use one of the class methods: ConfusionMatrixDisplay.from_predictions or ConfusionMatrixDisplay.from_estimator.\n",
      "  warnings.warn(msg, category=FutureWarning)\n"
     ]
    },
    {
     "data": {
      "text/plain": [
       "<Figure size 720x504 with 0 Axes>"
      ]
     },
     "metadata": {},
     "output_type": "display_data"
    },
    {
     "data": {
      "image/png": "[encoded data removed]",
      "text/plain": [
       "<Figure size 432x288 with 2 Axes>"
      ]
     },
     "metadata": {
      "needs_background": "light"
     },
     "output_type": "display_data"
    }
   ],
   "source": [
    "from sklearn.metrics import plot_confusion_matrix\n",
    "\n",
    "# Plot confusion matrix\n",
    "plt.figure(figsize=(10, 7))\n",
    "plot_confusion_matrix(log_reg, X_test_tfidf, y_test, cmap='coolwarm', display_labels=data['Emotion'].unique())\n",
    "plt.xlabel('Prediction')\n",
    "plt.ylabel('Truth')\n",
    "plt.title('Confusion Matrix for logistic regression')\n",
    "plt.show()"
   ]
  },
  {
   "cell_type": "markdown",
   "id": "b0e4be35",
   "metadata": {},
   "source": [
    "# <center><div style=\"font-family: Trebuchet MS; background-color: #E94B3C; color: #2D2926; padding: 12px; line-height: 1;\">Algorithm Results Table for Baseline model</div></center>\n",
    "\n",
    "|Sr. No.|ML Algorithm|Cross Validation Score|ROC AUC Score|Accuracy|\n",
    "|-|-|-|-|-|\n",
    "|1|Random Forest|85.01%|98.53%|86%|\n",
    "|2|SVM Classifier|79.0%|97%|83%|\n",
    "|3|Logistic Regression|80.24%|98.53%|85%|"
   ]
  },
  {
   "cell_type": "markdown",
   "id": "08dff5a9",
   "metadata": {},
   "source": [
    "# Overall, Accuracy for the Baseline model is 86% on train dataset"
   ]
  },
  {
   "cell_type": "markdown",
   "id": "0fc3154b",
   "metadata": {},
   "source": [
    "## External validation"
   ]
  },
  {
   "cell_type": "code",
   "execution_count": 28,
   "id": "e006fde0",
   "metadata": {},
   "outputs": [
    {
     "data": {
      "text/plain": [
       "(1000, 1)"
      ]
     },
     "execution_count": 28,
     "metadata": {},
     "output_type": "execute_result"
    }
   ],
   "source": [
    "testing_1 = pd.read_csv('test.csv')\n",
    "testing_1.shape"
   ]
  },
  {
   "cell_type": "code",
   "execution_count": 29,
   "id": "92d02bf5",
   "metadata": {},
   "outputs": [
    {
     "data": {
      "text/html": [
       "<div>\n",
       "<style scoped>\n",
       "    .dataframe tbody tr th:only-of-type {\n",
       "        vertical-align: middle;\n",
       "    }\n",
       "\n",
       "    .dataframe tbody tr th {\n",
       "        vertical-align: top;\n",
       "    }\n",
       "\n",
       "    .dataframe thead th {\n",
       "        text-align: right;\n",
       "    }\n",
       "</style>\n",
       "<table border=\"1\" class=\"dataframe\">\n",
       "  <thead>\n",
       "    <tr style=\"text-align: right;\">\n",
       "      <th></th>\n",
       "      <th>Text</th>\n",
       "    </tr>\n",
       "  </thead>\n",
       "  <tbody>\n",
       "    <tr>\n",
       "      <th>0</th>\n",
       "      <td>i mean as a group thing it felt good to get in...</td>\n",
       "    </tr>\n",
       "    <tr>\n",
       "      <th>1</th>\n",
       "      <td>i feel drained mentally and physically and i r...</td>\n",
       "    </tr>\n",
       "    <tr>\n",
       "      <th>2</th>\n",
       "      <td>i often feel that they are not an extremely cl...</td>\n",
       "    </tr>\n",
       "    <tr>\n",
       "      <th>3</th>\n",
       "      <td>i am not wishing november away or trying to fo...</td>\n",
       "    </tr>\n",
       "    <tr>\n",
       "      <th>4</th>\n",
       "      <td>i feel stupid and thoughtless</td>\n",
       "    </tr>\n",
       "  </tbody>\n",
       "</table>\n",
       "</div>"
      ],
      "text/plain": [
       "                                                Text\n",
       "0  i mean as a group thing it felt good to get in...\n",
       "1  i feel drained mentally and physically and i r...\n",
       "2  i often feel that they are not an extremely cl...\n",
       "3  i am not wishing november away or trying to fo...\n",
       "4                      i feel stupid and thoughtless"
      ]
     },
     "execution_count": 29,
     "metadata": {},
     "output_type": "execute_result"
    }
   ],
   "source": [
    "testing_1.head()"
   ]
  },
  {
   "cell_type": "code",
   "execution_count": 30,
   "id": "8e47e5c6",
   "metadata": {},
   "outputs": [],
   "source": [
    "X_test_count = tfidf.transform(testing_1['Text']) "
   ]
  },
  {
   "cell_type": "code",
   "execution_count": 31,
   "id": "14b01f99",
   "metadata": {},
   "outputs": [
    {
     "data": {
      "text/plain": [
       "(1000, 13179)"
      ]
     },
     "execution_count": 31,
     "metadata": {},
     "output_type": "execute_result"
    }
   ],
   "source": [
    "X_test_count.shape"
   ]
  },
  {
   "cell_type": "code",
   "execution_count": 26,
   "id": "a696ee69",
   "metadata": {},
   "outputs": [],
   "source": [
    "pred = rfc.predict(X_test_count)"
   ]
  },
  {
   "cell_type": "code",
   "execution_count": 27,
   "id": "52346eae",
   "metadata": {},
   "outputs": [
    {
     "name": "stdout",
     "output_type": "stream",
     "text": [
      "[2 5 2 4 5 2 2 5 2 3 5 2 4 5 5 4 2 5 2 5 3 2 2 3 5 3 3 5 5 2 2 2 2 5 5 4 3\n",
      " 2 2 5 5 2 2 1 4 4 2 2 5 2 4 4 5 3 4 2 5 5 5 2 2 2 2 5 2 5 5 0 2 3 2 4 2 4\n",
      " 5 3 2 5 5 2 5 5 2 4 2 2 5 5 5 2 1 2 5 3 2 2 0 5 5 3 2 4 2 5 2 5 5 2 3 0 5\n",
      " 5 2 2 0 2 5 5 1 2 2 5 2 3 5 1 5 2 3 5 3 5 2 2 3 2 2 5 4 5 5 5 2 2 2 2 2 2\n",
      " 3 1 2 1 4 2 2 2 3 2 4 5 2 5 2 5 2 2 2 2 2 4 2 2 5 5 2 5 5 2 1 4 2 5 2 2 2\n",
      " 2 2 3 5 3 5 5 2 3 1 5 2 1 3 4 3 5 1 4 2 5 1 4 2 5 2 5 2 2 3 4 1 2 5 5 4 3\n",
      " 2 5 2 2 5 1 2 2 5 2 1 4 2 2 5 5 3 2 5 2 2 5 5 2 2 5 2 5 5 1 2 2 2 4 5 2 3\n",
      " 2 4 2 2 3 1 3 2 3 1 5 5 2 5 5 2 5 5 4 4 5 2 2 2 5 5 0 4 5 2 2 1 2 2 5 2 2\n",
      " 2 2 5 5 2 2 4 4 4 2 3 1 2 2 2 5 2 5 3 4 4 2 4 2 3 5 3 4 5 3 4 2 2 3 5 1 5\n",
      " 5 2 1 1 4 4 5 2 1 2 2 5 5 5 5 2 2 2 2 4 2 2 0 1 3 5 1 2 2 1 4 3 4 5 5 2 2\n",
      " 2 1 0 3 2 3 1 2 2 3 3 5 1 4 2 5 2 2 5 1 2 2 2 1 5 2 2 2 3 2 3 2 5 5 4 2 2\n",
      " 1 4 2 3 2 3 3 2 2 0 5 2 0 4 2 2 5 2 2 5 3 5 3 2 3 2 3 4 2 2 4 4 2 2 4 5 5\n",
      " 2 4 2 3 1 3 4 5 2 2 5 4 0 2 2 3 2 5 5 4 5 5 5 3 3 5 0 2 2 2 2 5 5 2 2 2 5\n",
      " 3 5 4 4 2 5 5 4 4 2 5 4 4 3 5 2 5 2 2 2 2 5 2 2 5 5 2 4 5 5 5 4 0 5 5 4 2\n",
      " 2 2 1 2 3 3 3 2 4 5 2 4 5 3 5 2 2 5 4 2 4 2 2 2 2 2 5 3 2 5 2 3 5 2 4 3 2\n",
      " 5 2 1 5 2 1 5 4 2 2 4 2 1 4 4 5 4 4 2 3 2 0 4 1 2 2 2 0 5 2 1 4 3 0 1 5 4\n",
      " 4 2 5 2 1 4 4 5 2 2 2 0 2 2 3 1 2 3 4 2 5 5 1 4 2 2 3 2 2 2 5 2 5 5 0 2 2\n",
      " 5 2 1 5 2 4 2 3 5 5 4 2 3 2 5 3 5 2 5 2 2 2 2 5 4 3 2 1 2 3 5 5 5 3 2 2 1\n",
      " 2 3 2 2 3 0 3 5 1 2 0 2 2 2 5 2 5 3 2 3 4 3 4 2 2 2 3 2 2 4 3 4 2 2 5 2 2\n",
      " 4 2 2 5 3 5 4 5 3 5 4 3 5 2 2 2 2 5 5 2 2 2 5 2 5 2 2 3 3 2 2 2 2 2 5 5 3\n",
      " 3 3 2 2 4 1 3 5 5 4 3 5 4 2 2 2 3 4 5 1 5 2 5 5 0 2 0 2 4 5 3 2 2 5 2 2 2\n",
      " 5 2 2 2 5 5 4 2 2 0 2 2 2 4 2 2 4 5 5 2 2 2 2 4 5 5 5 3 2 2 3 2 2 4 2 5 2\n",
      " 5 4 3 2 5 2 2 5 1 4 3 2 2 1 3 5 5 5 5 3 4 2 5 1 4 5 4 5 3 5 2 2 2 4 4 2 5\n",
      " 2 2 2 0 2 5 2 5 2 5 4 2 5 2 2 3 2 3 3 2 2 2 2 4 2 0 2 2 4 0 5 5 2 2 2 2 2\n",
      " 2 2 3 2 1 4 3 5 2 5 2 4 5 1 2 2 1 1 5 2 5 5 2 2 2 5 3 5 3 5 5 3 3 2 2 5 3\n",
      " 3 2 2 5 2 0 2 5 5 4 0 5 4 2 4 5 2 4 2 2 5 2 2 1 2 2 4 2 3 2 2 5 2 2 2 2 2\n",
      " 4 5 2 2 2 4 2 2 2 5 5 2 2 2 2 4 5 5 5 0 5 2 5 2 5 4 5 2 3 2 2 2 4 3 2 5 2\n",
      " 3]\n"
     ]
    }
   ],
   "source": [
    "print(pred)"
   ]
  },
  {
   "cell_type": "code",
   "execution_count": 234,
   "id": "e101a0b1",
   "metadata": {},
   "outputs": [],
   "source": [
    "manual_mapping = {0: \"amaze\", 1: \"care\", 2: \"happiness\", 3: \"rage\", 4: \"scare\", 5: \"sorrow\"}\n",
    "# Convert numerical predictions to room types using manual mapping\n",
    "pred_labels_mapped = [manual_mapping[label] for label in pred]"
   ]
  },
  {
   "cell_type": "code",
   "execution_count": 235,
   "id": "b7bc9c5a",
   "metadata": {},
   "outputs": [
    {
     "name": "stdout",
     "output_type": "stream",
     "text": [
      "['happiness', 'sorrow', 'happiness', 'scare', 'sorrow', 'happiness', 'happiness', 'sorrow', 'happiness', 'rage', 'sorrow', 'happiness', 'scare', 'sorrow', 'sorrow', 'scare', 'happiness', 'sorrow', 'happiness', 'sorrow', 'rage', 'happiness', 'happiness', 'rage', 'sorrow', 'rage', 'rage', 'sorrow', 'sorrow', 'happiness', 'happiness', 'happiness', 'happiness', 'sorrow', 'sorrow', 'scare', 'rage', 'happiness', 'happiness', 'sorrow', 'sorrow', 'happiness', 'happiness', 'care', 'scare', 'scare', 'happiness', 'happiness', 'sorrow', 'happiness', 'scare', 'scare', 'sorrow', 'rage', 'scare', 'happiness', 'sorrow', 'sorrow', 'sorrow', 'happiness', 'happiness', 'happiness', 'happiness', 'sorrow', 'happiness', 'sorrow', 'sorrow', 'amaze', 'happiness', 'rage', 'happiness', 'scare', 'happiness', 'scare', 'sorrow', 'rage', 'happiness', 'sorrow', 'sorrow', 'happiness', 'sorrow', 'sorrow', 'happiness', 'scare', 'happiness', 'happiness', 'sorrow', 'sorrow', 'sorrow', 'happiness', 'care', 'happiness', 'sorrow', 'rage', 'happiness', 'happiness', 'amaze', 'sorrow', 'sorrow', 'rage', 'happiness', 'scare', 'happiness', 'sorrow', 'happiness', 'sorrow', 'sorrow', 'happiness', 'rage', 'amaze', 'sorrow', 'sorrow', 'happiness', 'happiness', 'amaze', 'happiness', 'sorrow', 'sorrow', 'care', 'happiness', 'happiness', 'sorrow', 'happiness', 'rage', 'sorrow', 'care', 'sorrow', 'happiness', 'rage', 'sorrow', 'rage', 'sorrow', 'happiness', 'happiness', 'rage', 'happiness', 'happiness', 'sorrow', 'scare', 'sorrow', 'sorrow', 'sorrow', 'happiness', 'happiness', 'happiness', 'happiness', 'happiness', 'happiness', 'rage', 'care', 'happiness', 'care', 'scare', 'happiness', 'happiness', 'happiness', 'rage', 'happiness', 'scare', 'sorrow', 'happiness', 'sorrow', 'happiness', 'sorrow', 'happiness', 'happiness', 'happiness', 'happiness', 'happiness', 'scare', 'happiness', 'happiness', 'sorrow', 'sorrow', 'happiness', 'sorrow', 'sorrow', 'happiness', 'care', 'scare', 'happiness', 'sorrow', 'happiness', 'happiness', 'happiness', 'happiness', 'happiness', 'rage', 'sorrow', 'rage', 'sorrow', 'sorrow', 'happiness', 'rage', 'care', 'sorrow', 'happiness', 'care', 'rage', 'scare', 'rage', 'sorrow', 'care', 'scare', 'happiness', 'sorrow', 'care', 'scare', 'happiness', 'sorrow', 'happiness', 'sorrow', 'happiness', 'happiness', 'rage', 'scare', 'care', 'happiness', 'sorrow', 'sorrow', 'scare', 'rage', 'happiness', 'sorrow', 'happiness', 'happiness', 'sorrow', 'care', 'happiness', 'happiness', 'sorrow', 'happiness', 'care', 'scare', 'happiness', 'happiness', 'sorrow', 'sorrow', 'rage', 'happiness', 'sorrow', 'happiness', 'happiness', 'sorrow', 'sorrow', 'happiness', 'happiness', 'sorrow', 'happiness', 'sorrow', 'sorrow', 'care', 'happiness', 'happiness', 'happiness', 'scare', 'sorrow', 'happiness', 'rage', 'happiness', 'scare', 'happiness', 'happiness', 'rage', 'care', 'rage', 'happiness', 'rage', 'care', 'sorrow', 'sorrow', 'happiness', 'sorrow', 'sorrow', 'happiness', 'sorrow', 'sorrow', 'scare', 'scare', 'sorrow', 'happiness', 'happiness', 'happiness', 'sorrow', 'sorrow', 'amaze', 'scare', 'sorrow', 'happiness', 'happiness', 'care', 'happiness', 'happiness', 'sorrow', 'happiness', 'happiness', 'happiness', 'happiness', 'sorrow', 'sorrow', 'happiness', 'happiness', 'scare', 'scare', 'scare', 'happiness', 'rage', 'care', 'happiness', 'happiness', 'happiness', 'sorrow', 'happiness', 'sorrow', 'rage', 'scare', 'scare', 'happiness', 'scare', 'happiness', 'rage', 'sorrow', 'rage', 'scare', 'sorrow', 'rage', 'scare', 'happiness', 'happiness', 'rage', 'sorrow', 'care', 'sorrow', 'sorrow', 'happiness', 'care', 'care', 'scare', 'scare', 'sorrow', 'happiness', 'care', 'happiness', 'happiness', 'sorrow', 'sorrow', 'sorrow', 'sorrow', 'happiness', 'happiness', 'happiness', 'happiness', 'scare', 'happiness', 'happiness', 'amaze', 'care', 'rage', 'sorrow', 'care', 'happiness', 'happiness', 'care', 'scare', 'rage', 'scare', 'sorrow', 'sorrow', 'happiness', 'happiness', 'happiness', 'care', 'amaze', 'rage', 'happiness', 'rage', 'care', 'happiness', 'happiness', 'rage', 'rage', 'sorrow', 'care', 'scare', 'happiness', 'sorrow', 'happiness', 'happiness', 'sorrow', 'care', 'happiness', 'happiness', 'happiness', 'care', 'sorrow', 'happiness', 'happiness', 'happiness', 'rage', 'happiness', 'rage', 'happiness', 'sorrow', 'sorrow', 'scare', 'happiness', 'happiness', 'care', 'scare', 'happiness', 'rage', 'happiness', 'rage', 'rage', 'happiness', 'happiness', 'amaze', 'sorrow', 'happiness', 'amaze', 'scare', 'happiness', 'happiness', 'sorrow', 'happiness', 'happiness', 'sorrow', 'rage', 'sorrow', 'rage', 'happiness', 'rage', 'happiness', 'rage', 'scare', 'happiness', 'happiness', 'scare', 'scare', 'happiness', 'happiness', 'scare', 'sorrow', 'sorrow', 'happiness', 'scare', 'happiness', 'rage', 'care', 'rage', 'scare', 'sorrow', 'happiness', 'happiness', 'sorrow', 'scare', 'amaze', 'happiness', 'happiness', 'rage', 'happiness', 'sorrow', 'sorrow', 'scare', 'sorrow', 'sorrow', 'sorrow', 'rage', 'rage', 'sorrow', 'amaze', 'happiness', 'happiness', 'happiness', 'happiness', 'sorrow', 'sorrow', 'happiness', 'happiness', 'happiness', 'sorrow', 'rage', 'sorrow', 'scare', 'scare', 'happiness', 'sorrow', 'sorrow', 'scare', 'scare', 'happiness', 'sorrow', 'scare', 'scare', 'rage', 'sorrow', 'happiness', 'sorrow', 'happiness', 'happiness', 'happiness', 'happiness', 'sorrow', 'happiness', 'happiness', 'sorrow', 'sorrow', 'happiness', 'scare', 'sorrow', 'sorrow', 'sorrow', 'scare', 'amaze', 'sorrow', 'sorrow', 'scare', 'happiness', 'happiness', 'happiness', 'care', 'happiness', 'rage', 'rage', 'rage', 'happiness', 'scare', 'sorrow', 'happiness', 'scare', 'sorrow', 'rage', 'sorrow', 'happiness', 'happiness', 'sorrow', 'scare', 'happiness', 'scare', 'happiness', 'happiness', 'happiness', 'happiness', 'happiness', 'sorrow', 'rage', 'happiness', 'sorrow', 'happiness', 'rage', 'sorrow', 'happiness', 'scare', 'rage', 'happiness', 'sorrow', 'happiness', 'care', 'sorrow', 'happiness', 'care', 'sorrow', 'scare', 'happiness', 'happiness', 'scare', 'happiness', 'care', 'scare', 'scare', 'sorrow', 'scare', 'scare', 'happiness', 'rage', 'happiness', 'amaze', 'scare', 'care', 'happiness', 'happiness', 'happiness', 'amaze', 'sorrow', 'happiness', 'care', 'scare', 'rage', 'amaze', 'care', 'sorrow', 'scare', 'scare', 'happiness', 'sorrow', 'happiness', 'care', 'scare', 'scare', 'sorrow', 'happiness', 'happiness', 'happiness', 'amaze', 'happiness', 'happiness', 'rage', 'care', 'happiness', 'rage', 'scare', 'happiness', 'sorrow', 'sorrow', 'care', 'scare', 'happiness', 'happiness', 'rage', 'happiness', 'happiness', 'happiness', 'sorrow', 'happiness', 'sorrow', 'sorrow', 'amaze', 'happiness', 'happiness', 'sorrow', 'happiness', 'care', 'sorrow', 'happiness', 'scare', 'happiness', 'rage', 'sorrow', 'sorrow', 'scare', 'happiness', 'rage', 'happiness', 'sorrow', 'rage', 'sorrow', 'happiness', 'sorrow', 'happiness', 'happiness', 'happiness', 'happiness', 'sorrow', 'scare', 'rage', 'happiness', 'care', 'happiness', 'rage', 'sorrow', 'sorrow', 'sorrow', 'rage', 'happiness', 'happiness', 'care', 'happiness', 'rage', 'happiness', 'happiness', 'rage', 'amaze', 'rage', 'sorrow', 'care', 'happiness', 'amaze', 'happiness', 'happiness', 'happiness', 'sorrow', 'happiness', 'sorrow', 'rage', 'happiness', 'rage', 'scare', 'rage', 'scare', 'happiness', 'happiness', 'happiness', 'rage', 'happiness', 'happiness', 'scare', 'rage', 'scare', 'happiness', 'happiness', 'sorrow', 'happiness', 'happiness', 'scare', 'happiness', 'happiness', 'sorrow', 'rage', 'sorrow', 'scare', 'sorrow', 'rage', 'sorrow', 'scare', 'rage', 'sorrow', 'happiness', 'happiness', 'happiness', 'happiness', 'sorrow', 'sorrow', 'happiness', 'happiness', 'happiness', 'sorrow', 'happiness', 'sorrow', 'happiness', 'happiness', 'rage', 'rage', 'happiness', 'happiness', 'happiness', 'happiness', 'happiness', 'sorrow', 'sorrow', 'rage', 'rage', 'rage', 'happiness', 'happiness', 'scare', 'care', 'rage', 'sorrow', 'sorrow', 'scare', 'rage', 'sorrow', 'scare', 'happiness', 'happiness', 'happiness', 'rage', 'scare', 'sorrow', 'care', 'sorrow', 'happiness', 'sorrow', 'sorrow', 'amaze', 'happiness', 'amaze', 'happiness', 'scare', 'sorrow', 'rage', 'happiness', 'happiness', 'sorrow', 'happiness', 'happiness', 'happiness', 'sorrow', 'happiness', 'happiness', 'happiness', 'sorrow', 'sorrow', 'scare', 'happiness', 'happiness', 'amaze', 'happiness', 'happiness', 'happiness', 'scare', 'happiness', 'happiness', 'scare', 'sorrow', 'sorrow', 'happiness', 'happiness', 'happiness', 'happiness', 'scare', 'sorrow', 'sorrow', 'sorrow', 'rage', 'happiness', 'happiness', 'rage', 'happiness', 'happiness', 'scare', 'happiness', 'sorrow', 'happiness', 'sorrow', 'scare', 'rage', 'happiness', 'sorrow', 'happiness', 'happiness', 'sorrow', 'care', 'scare', 'rage', 'happiness', 'happiness', 'care', 'rage', 'sorrow', 'sorrow', 'sorrow', 'sorrow', 'rage', 'scare', 'happiness', 'sorrow', 'care', 'scare', 'sorrow', 'scare', 'sorrow', 'rage', 'sorrow', 'happiness', 'happiness', 'happiness', 'scare', 'scare', 'happiness', 'sorrow', 'happiness', 'happiness', 'happiness', 'amaze', 'happiness', 'sorrow', 'happiness', 'sorrow', 'happiness', 'sorrow', 'scare', 'happiness', 'sorrow', 'happiness', 'happiness', 'rage', 'happiness', 'rage', 'rage', 'happiness', 'happiness', 'happiness', 'happiness', 'scare', 'happiness', 'amaze', 'happiness', 'happiness', 'scare', 'amaze', 'sorrow', 'sorrow', 'happiness', 'happiness', 'happiness', 'happiness', 'happiness', 'happiness', 'happiness', 'rage', 'happiness', 'care', 'scare', 'rage', 'sorrow', 'happiness', 'sorrow', 'happiness', 'scare', 'sorrow', 'care', 'happiness', 'happiness', 'care', 'care', 'sorrow', 'happiness', 'sorrow', 'sorrow', 'happiness', 'happiness', 'happiness', 'sorrow', 'rage', 'sorrow', 'rage', 'sorrow', 'sorrow', 'rage', 'rage', 'happiness', 'happiness', 'sorrow', 'rage', 'rage', 'happiness', 'happiness', 'sorrow', 'happiness', 'amaze', 'happiness', 'sorrow', 'sorrow', 'scare', 'amaze', 'sorrow', 'scare', 'happiness', 'scare', 'sorrow', 'happiness', 'scare', 'happiness', 'happiness', 'sorrow', 'happiness', 'happiness', 'care', 'happiness', 'happiness', 'scare', 'happiness', 'rage', 'happiness', 'happiness', 'sorrow', 'happiness', 'happiness', 'happiness', 'happiness', 'happiness', 'scare', 'sorrow', 'happiness', 'happiness', 'happiness', 'scare', 'happiness', 'happiness', 'happiness', 'sorrow', 'sorrow', 'happiness', 'happiness', 'happiness', 'happiness', 'scare', 'sorrow', 'sorrow', 'sorrow', 'amaze', 'sorrow', 'happiness', 'sorrow', 'happiness', 'sorrow', 'scare', 'sorrow', 'happiness', 'rage', 'happiness', 'happiness', 'happiness', 'scare', 'rage', 'happiness', 'sorrow', 'happiness', 'rage']\n"
     ]
    }
   ],
   "source": [
    "print(pred_labels_mapped)"
   ]
  },
  {
   "cell_type": "code",
   "execution_count": 236,
   "id": "aeac9775",
   "metadata": {},
   "outputs": [],
   "source": [
    "# Step 5: Save the predictions as a CSV file\n",
    "submission = pd.DataFrame({'Emotion': pred_labels_mapped})"
   ]
  },
  {
   "cell_type": "code",
   "execution_count": 237,
   "id": "43f44908",
   "metadata": {},
   "outputs": [],
   "source": [
    "submission.to_csv(\"baselinesubmission.csv\", index=False)"
   ]
  },
  {
   "cell_type": "code",
   "execution_count": null,
   "id": "3799cab7",
   "metadata": {},
   "outputs": [],
   "source": []
  },
  {
   "cell_type": "code",
   "execution_count": null,
   "id": "23cb8a39",
   "metadata": {},
   "outputs": [],
   "source": []
  },
  {
   "cell_type": "code",
   "execution_count": 238,
   "id": "12876c99",
   "metadata": {},
   "outputs": [],
   "source": [
    "y_test = pd.read_csv('solution.csv')"
   ]
  },
  {
   "cell_type": "code",
   "execution_count": 239,
   "id": "07757909",
   "metadata": {},
   "outputs": [],
   "source": [
    "from sklearn.metrics import balanced_accuracy_score\n",
    "\n",
    "def model_evaluation(y_test, y_pred):\n",
    "    # Calculate the balanced accuracy score\n",
    "    balanced_accuracy = balanced_accuracy_score(y_test, y_pred)\n",
    "\n",
    "    # Return the balanced accuracy as a single digit number\n",
    "    print('The Balanced accuracy is : ', balanced_accuracy)"
   ]
  },
  {
   "cell_type": "code",
   "execution_count": 243,
   "id": "af7d9b99",
   "metadata": {},
   "outputs": [
    {
     "name": "stdout",
     "output_type": "stream",
     "text": [
      "The Balanced accuracy is :  0.8025451959503503\n"
     ]
    }
   ],
   "source": [
    "test_score = model_evaluation(y_test,pred_labels_mapped)"
   ]
  },
  {
   "cell_type": "markdown",
   "id": "a0a266c3",
   "metadata": {},
   "source": [
    "## Balanced accuracy score for baseline model on test dataset(hidden label) is found to be 80%"
   ]
  },
  {
   "cell_type": "code",
   "execution_count": 9,
   "id": "ee8e312f",
   "metadata": {},
   "outputs": [],
   "source": [
    "y_test = pd.read_csv('solution.csv')\n",
    "y_pred_baseline = pd.read_csv('baselinesubmission.csv')\n",
    "y_pred_intermediate = pd.read_csv('intermediatesubmission.csv')"
   ]
  },
  {
   "cell_type": "code",
   "execution_count": 10,
   "id": "760d275f",
   "metadata": {},
   "outputs": [
    {
     "name": "stdout",
     "output_type": "stream",
     "text": [
      "0.8025451959503503\n",
      "0.8510647369407343\n"
     ]
    }
   ],
   "source": [
    "from sklearn.metrics import balanced_accuracy_score\n",
    "print(balanced_accuracy_score(y_test, y_pred_baseline))\n",
    "print(balanced_accuracy_score(y_test, y_pred_intermediate))"
   ]
  },
  {
   "cell_type": "code",
   "execution_count": 11,
   "id": "28466d1b",
   "metadata": {},
   "outputs": [],
   "source": [
    "from sklearn.metrics import balanced_accuracy_score\n",
    "\n",
    "def evaluation_metrics(y_test, y_pred):\n",
    "    score = balanced_accuracy_score(y_test, y_pred)\n",
    "    return score\n",
    "\n",
    "def get_score(y_test, y_pred, lower_bound = 0.5333, upper_bound = 0.866, full_marks = 30):\n",
    "    assert lower_bound is not None, \"lower bound should be given\"\n",
    "    assert upper_bound is not None, \"upper bound should be given\"\n",
    "    score = evaluation_metrics(y_test, y_pred)\n",
    "    if score < lower_bound:\n",
    "        return 0\n",
    "    elif score > upper_bound:\n",
    "        return full_marks\n",
    "    else:\n",
    "        return full_marks * (score - lower_bound) / (upper_bound - lower_bound)\n"
   ]
  },
  {
   "cell_type": "code",
   "execution_count": 12,
   "id": "c5203790",
   "metadata": {},
   "outputs": [
    {
     "name": "stdout",
     "output_type": "stream",
     "text": [
      "Baseline Predictions Autograder Score:  24.27819620832735\n",
      "Intermediate Predictions Autograder Score  28.65326753297874\n"
     ]
    }
   ],
   "source": [
    "print(\"Baseline Predictions Autograder Score: \", get_score(y_test, y_pred_baseline))\n",
    "print(\"Intermediate Predictions Autograder Score \", get_score(y_test, y_pred_intermediate))"
   ]
  },
  {
   "cell_type": "code",
   "execution_count": null,
   "id": "8aebc1e0",
   "metadata": {},
   "outputs": [],
   "source": []
  }
 ],
 "metadata": {
  "kernelspec": {
   "display_name": "Python 3 (ipykernel)",
   "language": "python",
   "name": "python3"
  },
  "language_info": {
   "codemirror_mode": {
    "name": "ipython",
    "version": 3
   },
   "file_extension": ".py",
   "mimetype": "text/x-python",
   "name": "python",
   "nbconvert_exporter": "python",
   "pygments_lexer": "ipython3",
   "version": "3.9.12"
  }
 },
 "nbformat": 4,
 "nbformat_minor": 5
}
